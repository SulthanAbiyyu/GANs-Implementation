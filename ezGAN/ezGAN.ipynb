{
 "cells": [
  {
   "cell_type": "code",
   "execution_count": 1,
   "metadata": {},
   "outputs": [],
   "source": [
    "import torch\n",
    "import torch.nn as nn\n",
    "import torch.optim as optim\n",
    "import torchvision\n",
    "import torchvision.datasets as datasets\n",
    "import torchvision.transforms as transforms\n",
    "from torch.utils.data import DataLoader\n",
    "from torch.utils.tensorboard import SummaryWriter"
   ]
  },
  {
   "cell_type": "code",
   "execution_count": 2,
   "metadata": {},
   "outputs": [],
   "source": [
    "class Discriminator(nn.Module):\n",
    "    def __init__(self, img_dim):\n",
    "        super().__init__()\n",
    "        self.d = nn.Sequential(\n",
    "            nn.Linear(img_dim, 128),\n",
    "            nn.LeakyReLU(0.1), # GAN pake LRELU\n",
    "            nn.Linear(128, 1), # fake = 0, real = 1\n",
    "            nn.Sigmoid()\n",
    "        )\n",
    "    def forward(self, x):\n",
    "        return self.d(x)\n",
    "\n",
    "class Generator(nn.Module):\n",
    "    def __init__(self,z_dim, img_dim): # z_dim = latent noise dimension\n",
    "        super().__init__()\n",
    "        self.g = nn.Sequential(\n",
    "            nn.Linear(z_dim, 256),\n",
    "            nn.LeakyReLU(0.1),\n",
    "            nn.Linear(256, img_dim), # Outputin artif image (28x28x1)\n",
    "            nn.Tanh() # nanti img_dim di normalisasi agar -1<=x<=1, makanya pake tanh\n",
    "        )\n",
    "    def forward(self, x):\n",
    "        return self.g(x)"
   ]
  },
  {
   "cell_type": "code",
   "execution_count": 6,
   "metadata": {},
   "outputs": [],
   "source": [
    "# Hyperparameter\n",
    "\"\"\"\n",
    "GAN sangat sensitif dengan hyperparameter yang dipilih.\n",
    "\"\"\"\n",
    "DEVICE = \"cuda\" if torch.cuda.is_available() else \"cpu\"\n",
    "LR = 3e-4 # is the best lr for Adam optim -Andrej Karpathy\n",
    "Z_DIM = 64 # latent noise dimension\n",
    "IMG_DIM = 784 # MNIST image dimension\n",
    "BATCH_SIZE = 32\n",
    "EPOCH = 10\n",
    "FIXED_NOISE = torch.randn(BATCH_SIZE, Z_DIM, device=DEVICE)"
   ]
  },
  {
   "cell_type": "code",
   "execution_count": 4,
   "metadata": {},
   "outputs": [],
   "source": [
    "d = Discriminator(IMG_DIM).to(DEVICE)\n",
    "g = Generator(Z_DIM, IMG_DIM).to(DEVICE)\n",
    "transforms = transforms.Compose([\n",
    "    transforms.ToTensor(), \n",
    "    transforms.Normalize((0.5), (0.5))\n",
    "    ])\n",
    "\n",
    "dataset = datasets.MNIST(root='./data/', transform=transforms, download=True)\n",
    "loader = DataLoader(dataset, batch_size=BATCH_SIZE, shuffle=True)\n",
    "d_optim = optim.Adam(d.parameters(), lr=LR)\n",
    "g_optim = optim.Adam(g.parameters(), lr=LR)\n",
    "criterion = nn.BCELoss() # based on the paper\n",
    "sum_writer_fake = SummaryWriter(f\"runs/ezGAN/fake_data\")\n",
    "sum_writer_real = SummaryWriter(f\"runs/ezGAN/real_data\")\n",
    "step = 0"
   ]
  },
  {
   "cell_type": "code",
   "execution_count": 7,
   "metadata": {},
   "outputs": [
    {
     "name": "stdout",
     "output_type": "stream",
     "text": [
      "Epoch [0/10] Batch 0/1875                       Loss D: 0.2918, loss G: 1.6669\n",
      "Epoch [1/10] Batch 0/1875                       Loss D: 0.2996, loss G: 1.4723\n",
      "Epoch [2/10] Batch 0/1875                       Loss D: 0.8469, loss G: 0.6616\n",
      "Epoch [3/10] Batch 0/1875                       Loss D: 0.4883, loss G: 1.4582\n",
      "Epoch [4/10] Batch 0/1875                       Loss D: 0.5857, loss G: 1.1705\n",
      "Epoch [5/10] Batch 0/1875                       Loss D: 0.3918, loss G: 1.5993\n",
      "Epoch [6/10] Batch 0/1875                       Loss D: 0.5467, loss G: 1.4018\n",
      "Epoch [7/10] Batch 0/1875                       Loss D: 0.4233, loss G: 1.3390\n",
      "Epoch [8/10] Batch 0/1875                       Loss D: 0.5797, loss G: 0.8857\n",
      "Epoch [9/10] Batch 0/1875                       Loss D: 0.6779, loss G: 1.0047\n"
     ]
    }
   ],
   "source": [
    "for epoch in range(EPOCH):\n",
    "    for idx, (real, _) in enumerate(loader):\n",
    "        real = real.view(-1, 784).to(DEVICE)\n",
    "        \n",
    "        # Discriminator\n",
    "        \"\"\"\n",
    "        -> maximize log(D(x)) + log(1 - D(G(z)))\n",
    "        \"\"\"\n",
    "        z_noise = torch.randn(BATCH_SIZE, Z_DIM).to(DEVICE) # gaussian noise\n",
    "        fake = g(z_noise)\n",
    "        d_real = d(real).view(-1)\n",
    "        loss_d_real = criterion(d_real, torch.ones_like(d_real)) # log(D(x)) + 0\n",
    "        d_fake = d(fake).view(-1)\n",
    "        loss_d_fake = criterion(d_fake, torch.zeros_like(d_fake)) # 0 + log(1 - D(G(z)))\n",
    "        loss_d = (loss_d_real + loss_d_fake) / 2 # log(D(x)) + log(1 - D(G(z))), kenapa dibagi 2?\n",
    "        d_optim.zero_grad()\n",
    "        loss_d.backward(retain_graph=True)\n",
    "        d_optim.step()\n",
    "\n",
    "        # Generator\n",
    "        \"\"\"\n",
    "        -> minimize log(1 - D(G(z))) but leads to vanishing gradient problem\n",
    "        --> the workaround is to maximize log(D(G(z)))\n",
    "        \"\"\"\n",
    "        out = d(fake).view(-1)\n",
    "        loss_g = criterion(out, torch.ones_like(out))  # maximize log(D(x)) + 0\n",
    "        g_optim.zero_grad()\n",
    "        loss_g.backward()\n",
    "        g_optim.step()\n",
    "\n",
    "        # Logging\n",
    "        if idx == 0:\n",
    "            print(\n",
    "                f\"Epoch [{epoch}/{EPOCH}] Batch {idx}/{len(loader)} \\\n",
    "                      Loss D: {loss_d:.4f}, loss G: {loss_g:.4f}\"\n",
    "            )\n",
    "\n",
    "            with torch.no_grad():\n",
    "                fake = g(FIXED_NOISE).reshape(-1, 1, 28, 28)\n",
    "                data = real.reshape(-1, 1, 28, 28)\n",
    "                img_grid_fake = torchvision.utils.make_grid(\n",
    "                    fake, normalize=True)\n",
    "                img_grid_real = torchvision.utils.make_grid(\n",
    "                    data, normalize=True)\n",
    "\n",
    "                sum_writer_fake.add_image(\n",
    "                    \"Mnist Fake Images\", img_grid_fake, global_step=step\n",
    "                )\n",
    "                sum_writer_real.add_image(\n",
    "                    \"Mnist Real Images\", img_grid_real, global_step=step\n",
    "                )\n",
    "                step += 1\n"
   ]
  },
  {
   "cell_type": "markdown",
   "metadata": {},
   "source": [
    "![hehe](./asset/FP5rFJEXsAIQ8FA.jpg)"
   ]
  }
 ],
 "metadata": {
  "interpreter": {
   "hash": "2358c7718a06ce74613d3ca23af7963e3dc3a98263e194a13e6cf112cb830610"
  },
  "kernelspec": {
   "display_name": "Python 3.9.6 ('DataScience')",
   "language": "python",
   "name": "python3"
  },
  "language_info": {
   "codemirror_mode": {
    "name": "ipython",
    "version": 3
   },
   "file_extension": ".py",
   "mimetype": "text/x-python",
   "name": "python",
   "nbconvert_exporter": "python",
   "pygments_lexer": "ipython3",
   "version": "3.9.6"
  },
  "orig_nbformat": 4
 },
 "nbformat": 4,
 "nbformat_minor": 2
}
